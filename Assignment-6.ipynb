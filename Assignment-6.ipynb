{
 "cells": [
  {
   "cell_type": "markdown",
   "id": "15ec4c0b",
   "metadata": {},
   "source": [
    "# Assignment - 6"
   ]
  },
  {
   "cell_type": "markdown",
   "id": "0b4eb5f1",
   "metadata": {},
   "source": [
    "### 1. What are escape characters, and how do you use them?"
   ]
  },
  {
   "cell_type": "markdown",
   "id": "2adb1f97",
   "metadata": {},
   "source": [
    "#### Ans:\n",
    "An escape character is a backslash \\ followed by the character you want to insert.\n",
    "We use them to insert characters that are illegal in a string."
   ]
  },
  {
   "cell_type": "code",
   "execution_count": 1,
   "id": "18ff0cbe",
   "metadata": {},
   "outputs": [
    {
     "name": "stdout",
     "output_type": "stream",
     "text": [
      "We have enrolled in \"iNeuron's\" Full Stack Data Science class.\n"
     ]
    }
   ],
   "source": [
    "data = \"We have enrolled in \\\"iNeuron's\\\" Full Stack Data Science class.\"\n",
    "print(data) "
   ]
  },
  {
   "cell_type": "markdown",
   "id": "983d687d",
   "metadata": {},
   "source": [
    "### 2. What do the escape characters n and t stand for?"
   ]
  },
  {
   "cell_type": "markdown",
   "id": "4100ab11",
   "metadata": {},
   "source": [
    "#### Ans:\n",
    "/n - Newline,\n",
    "\n",
    "/t - Tab"
   ]
  },
  {
   "cell_type": "markdown",
   "id": "6833dfa6",
   "metadata": {},
   "source": [
    "### 3. What is the way to include backslash characters in a string?"
   ]
  },
  {
   "cell_type": "markdown",
   "id": "09bb7f73",
   "metadata": {},
   "source": [
    "#### Ans:\n",
    "The \\ \\ escape character will represent the backslash character in a string"
   ]
  },
  {
   "cell_type": "code",
   "execution_count": 2,
   "id": "bac86d22",
   "metadata": {},
   "outputs": [
    {
     "name": "stdout",
     "output_type": "stream",
     "text": [
      "YES \\ NO\n"
     ]
    }
   ],
   "source": [
    "s= \"YES \\\\ NO\"\n",
    "print(s)"
   ]
  },
  {
   "cell_type": "markdown",
   "id": "a390c171",
   "metadata": {},
   "source": [
    "### 4. The string &quot;Howl&#39;s Moving Castle&quot; is a correct value. Why isn&#39;t the single quote character in the word Howl&#39;s not escaped a problem?"
   ]
  },
  {
   "cell_type": "markdown",
   "id": "95064f46",
   "metadata": {},
   "source": [
    "#### Ans:\n",
    "We can represent a string within the single quote character or within the double quote character. Since we have enclosed the \"Howl's Moving Castle\" in double quote. hence the single quote character is not a problem"
   ]
  },
  {
   "cell_type": "markdown",
   "id": "813d090e",
   "metadata": {},
   "source": [
    "### 5. How do you write a string of newlines if you don&#39;t want to use the n character?"
   ]
  },
  {
   "cell_type": "markdown",
   "id": "f1b440fb",
   "metadata": {},
   "source": [
    "#### Ans:\n",
    "Multiline string allow you to use newlines in string without the \\n escape character."
   ]
  },
  {
   "cell_type": "code",
   "execution_count": 3,
   "id": "8b589584",
   "metadata": {},
   "outputs": [
    {
     "name": "stdout",
     "output_type": "stream",
     "text": [
      "iNeuron full stack\n",
      "Data Science Course\n"
     ]
    }
   ],
   "source": [
    "# Example:\n",
    "a = '''iNeuron full stack\n",
    "Data Science Course'''\n",
    "print(a)"
   ]
  },
  {
   "cell_type": "markdown",
   "id": "b2338e9e",
   "metadata": {},
   "source": [
    "### 6. What are the values of the given expressions?\n",
    "\n",
    "### &#39;Hello, world!&#39;[1]\n",
    "\n",
    "### &#39;Hello, world!&#39;[0:5]\n",
    "\n",
    "### &#39;Hello, world!&#39;[:5]\n",
    "\n",
    "### &#39;Hello, world!&#39;[3:]"
   ]
  },
  {
   "cell_type": "code",
   "execution_count": 4,
   "id": "934206ab",
   "metadata": {},
   "outputs": [
    {
     "name": "stdout",
     "output_type": "stream",
     "text": [
      "e\n",
      "Hello\n",
      "Hello\n",
      "lo, world!\n"
     ]
    }
   ],
   "source": [
    "# Ans\n",
    "print('Hello, world!'[1])\n",
    "print('Hello, world!'[0:5])\n",
    "print('Hello, world!'[:5])\n",
    "print('Hello, world!'[3:])"
   ]
  },
  {
   "cell_type": "markdown",
   "id": "5fbbf83a",
   "metadata": {},
   "source": [
    "### 7. What are the values of the following expressions?\n",
    "\n",
    "### &#39;Hello&#39;.upper()\n",
    "\n",
    "### &#39;Hello&#39;.upper().isupper()\n",
    "\n",
    "### &#39;Hello&#39;.upper().lower()"
   ]
  },
  {
   "cell_type": "code",
   "execution_count": 5,
   "id": "17b24aaf",
   "metadata": {},
   "outputs": [
    {
     "name": "stdout",
     "output_type": "stream",
     "text": [
      "HELLO\n",
      "True\n",
      "hello\n"
     ]
    }
   ],
   "source": [
    "# Ans\n",
    "print('Hello'.upper())\n",
    "print('Hello'.upper().isupper())\n",
    "print('Hello'.upper().lower())"
   ]
  },
  {
   "cell_type": "markdown",
   "id": "376c0d94",
   "metadata": {},
   "source": [
    "### 8. What are the values of the following expressions?\n",
    "### &#39;Remember, remember, the fifth of July.&#39;.split()\n",
    "### &#39;-&#39;.join(&#39;There can only one.&#39;.split())"
   ]
  },
  {
   "cell_type": "code",
   "execution_count": 6,
   "id": "e6c13410",
   "metadata": {},
   "outputs": [
    {
     "name": "stdout",
     "output_type": "stream",
     "text": [
      "['Remember,', 'remember,', 'the', 'fifth', 'of', 'July.']\n",
      "There-can-only-one.\n"
     ]
    }
   ],
   "source": [
    "# Ans:\n",
    "print('Remember, remember, the fifth of July.'.split()) \n",
    "print('-'.join('There can only one.'.split()))"
   ]
  },
  {
   "cell_type": "markdown",
   "id": "543f680b",
   "metadata": {},
   "source": [
    "### 9. What are the methods for right-justifying, left-justifying, and centering a string?"
   ]
  },
  {
   "cell_type": "markdown",
   "id": "83b055a0",
   "metadata": {},
   "source": [
    "#### Ans:\n",
    "The methods for right-justifying, left-justifying, and centering a string are rjust(), ljust() and center() respectively."
   ]
  },
  {
   "cell_type": "markdown",
   "id": "bf0250bc",
   "metadata": {},
   "source": [
    "### 10. What is the best way to remove whitespace characters from the start or end?"
   ]
  },
  {
   "cell_type": "markdown",
   "id": "5b4fdd86",
   "metadata": {},
   "source": [
    "#### Ans:\n",
    "The lstrip() and rstrip() methods remove whitesapce characters from the left and right ends of a string respectively"
   ]
  },
  {
   "cell_type": "code",
   "execution_count": null,
   "id": "c46ef18c",
   "metadata": {},
   "outputs": [],
   "source": []
  }
 ],
 "metadata": {
  "kernelspec": {
   "display_name": "Python 3 (ipykernel)",
   "language": "python",
   "name": "python3"
  },
  "language_info": {
   "codemirror_mode": {
    "name": "ipython",
    "version": 3
   },
   "file_extension": ".py",
   "mimetype": "text/x-python",
   "name": "python",
   "nbconvert_exporter": "python",
   "pygments_lexer": "ipython3",
   "version": "3.9.16"
  }
 },
 "nbformat": 4,
 "nbformat_minor": 5
}
