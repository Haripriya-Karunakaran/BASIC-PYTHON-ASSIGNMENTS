{
 "cells": [
  {
   "cell_type": "markdown",
   "id": "6a24726b-3c2b-4561-b7e3-ac5fecd789ac",
   "metadata": {},
   "source": [
    "## 1. In the below elements which of them are values or an expression? eg:- values can be integer or string and expressions will be mathematical operators."
   ]
  },
  {
   "cell_type": "markdown",
   "id": "fcd08568",
   "metadata": {},
   "source": [
    "### Ans:\n",
    "### Values :\n",
    "\n",
    "\"hello\" - String \n",
    "\n",
    "-87.8 - Floating point \n",
    "\n",
    "6 - Integer\n",
    "\n",
    "### Expressions :\n",
    "  +, - , * , /  -  Arithmetic operators\n"
   ]
  },
  {
   "cell_type": "markdown",
   "id": "133e3579",
   "metadata": {},
   "source": [
    "## 2. What is the difference between string and variable?"
   ]
  },
  {
   "cell_type": "markdown",
   "id": "1084ea8f",
   "metadata": {},
   "source": [
    "### Ans:\n",
    "A Variable is a symbolic name which is used to store informations so that we can able to use it whenever we want.\n",
    "\n",
    "A String is a type of information you would store in a Variable.   A String is a group of characters or a single character\n",
    "usually enclosed in Double quotes \" \" or Single quotes '  '.\n",
    "\n",
    "### Example:\n",
    "X = \"Welcome to INEURON\"\n",
    "\n",
    "Here, X is a variable name. \n",
    "     \n",
    "     \"Welcome to INEURON\" is a string. "
   ]
  },
  {
   "cell_type": "markdown",
   "id": "dbd9d312",
   "metadata": {},
   "source": [
    "## 3. Describe three different data types."
   ]
  },
  {
   "cell_type": "markdown",
   "id": "ceafd87b",
   "metadata": {},
   "source": [
    "### Ans:\n",
    "Three fundamental data types in Python : int , float , complex.\n",
    "\n",
    "#### 1.int data type: \n",
    "We can use int data type to represent whole numbers,positive or negative numbers with no decimal point.\n",
    "\n",
    "#### 2.float data type: \n",
    "We can use float data type to represent floating point values (decimal values).\n",
    "\n",
    "#### 3.complex data type: \n",
    "Complex number is represented by complex class. It consists of two parts: (real part) + (imaginary part)j."
   ]
  },
  {
   "cell_type": "code",
   "execution_count": 13,
   "id": "4073acdb",
   "metadata": {},
   "outputs": [
    {
     "name": "stdout",
     "output_type": "stream",
     "text": [
      "<class 'int'>\n",
      "<class 'float'>\n",
      "<class 'complex'>\n"
     ]
    }
   ],
   "source": [
    "# Examples of datatypes\n",
    "a = 5\n",
    "print(type(a)) # integer\n",
    "b = 3.14\n",
    "print(type(b)) # float\n",
    "c = 2+3j\n",
    "print(type(c)) # complex"
   ]
  },
  {
   "cell_type": "markdown",
   "id": "b1025f64",
   "metadata": {},
   "source": [
    "## 4. What is an expression made up of? What do all expressions do?"
   ]
  },
  {
   "cell_type": "markdown",
   "id": "e6c54ba1",
   "metadata": {},
   "source": [
    "### Ans:\n",
    "An expression is a combination of values, variables, operators and functions. Expressions need to be evaluated. If we ask Python to print an expression, the interpreter evaluates the expression and displays the result."
   ]
  },
  {
   "cell_type": "code",
   "execution_count": 14,
   "id": "c4d280a1",
   "metadata": {},
   "outputs": [
    {
     "data": {
      "text/plain": [
       "60"
      ]
     },
     "execution_count": 14,
     "metadata": {},
     "output_type": "execute_result"
    }
   ],
   "source": [
    "# example\n",
    "\n",
    "10*5-20+30  # interpreter evaluates the expression and gives the output."
   ]
  },
  {
   "cell_type": "markdown",
   "id": "b8dd2a79",
   "metadata": {},
   "source": [
    "## 5. This assignment statements, like spam = 10. What is the difference between an expression and a statement?"
   ]
  },
  {
   "cell_type": "markdown",
   "id": "37b4419d",
   "metadata": {},
   "source": [
    "### Ans:\n",
    "#### Expression:\n",
    "An expression is a combination of values, variables, operators and functions. Expressions need to be evaluated. If we ask Python to print an expression, the interpreter evaluates the expression and displays the result.\n",
    "#### Statement:\n",
    "A statement is a unit of code that has an effect, like creating a variable or displaying a value.When we type a statement, the interpreter executes it, which means that it does whatever the statement says. In general, statements don’t have values."
   ]
  },
  {
   "cell_type": "code",
   "execution_count": 12,
   "id": "7957d777",
   "metadata": {},
   "outputs": [
    {
     "name": "stdout",
     "output_type": "stream",
     "text": [
      "Hello World !\n"
     ]
    }
   ],
   "source": [
    "#Examples:\n",
    "10*5-20+30 # it is a Expression\n",
    "Name = \"Ineuron\" # it is a assignment statement.\n",
    "print(\"Hello World !\") # it is a Expression Statement .it will print whatever we type."
   ]
  },
  {
   "cell_type": "markdown",
   "id": "eb9db9f2",
   "metadata": {},
   "source": [
    "## 6. After running the following code, what does the variable bacon contain?\n",
    " bacon = 22\n",
    " \n",
    " bacon + 1"
   ]
  },
  {
   "cell_type": "markdown",
   "id": "b648ee78",
   "metadata": {},
   "source": [
    "### Ans:\n",
    "The variable bacon value is set to 22 .The expression bacon + 1 does not reassign the value in bacon that would be the case if the expression is like bacon = bacon + 1 instead of bacon + 1."
   ]
  },
  {
   "cell_type": "code",
   "execution_count": 15,
   "id": "47eed7e6",
   "metadata": {},
   "outputs": [
    {
     "name": "stdout",
     "output_type": "stream",
     "text": [
      "22\n"
     ]
    }
   ],
   "source": [
    "# Example Case#1\n",
    "bacon=22\n",
    "bacon+1     # it would be the same value\n",
    "print(bacon)"
   ]
  },
  {
   "cell_type": "code",
   "execution_count": 16,
   "id": "c4d390a5",
   "metadata": {},
   "outputs": [
    {
     "name": "stdout",
     "output_type": "stream",
     "text": [
      "23\n"
     ]
    }
   ],
   "source": [
    "#Example Case#2\n",
    "bacon=22\n",
    "bacon=bacon+1 \n",
    "print(bacon)"
   ]
  },
  {
   "cell_type": "markdown",
   "id": "4becc3fa",
   "metadata": {},
   "source": [
    "## 7. What should the values of the following two terms be?\n",
    "&#39;spam&#39; + &#39;spamspam&#39;\n",
    "\n",
    "&#39;spam&#39; * 3"
   ]
  },
  {
   "cell_type": "markdown",
   "id": "3abae822",
   "metadata": {},
   "source": [
    "### Ans:\n",
    "Both expressions evaluate to the string 'spamspamspam' Where as the first expression follows String Concatentation and the second expression follows String Multiplication."
   ]
  },
  {
   "cell_type": "code",
   "execution_count": 17,
   "id": "7aa09c1f",
   "metadata": {},
   "outputs": [
    {
     "name": "stdout",
     "output_type": "stream",
     "text": [
      "spamspamspam\n",
      "spamspamspam\n"
     ]
    }
   ],
   "source": [
    "print('spam'+'spamspam') # string concatenation\n",
    "print('spam'*3) # string multiplication"
   ]
  },
  {
   "cell_type": "markdown",
   "id": "1f656b44",
   "metadata": {},
   "source": [
    "## 8. Why is eggs a valid variable name while 100 is invalid?"
   ]
  },
  {
   "cell_type": "markdown",
   "id": "b0165e8c",
   "metadata": {},
   "source": [
    "### Ans:\n",
    "As per python,Variable names cannot begin with a number. \n",
    "\n",
    "eggs is valid variable name because Variable name can start with a letter or the underscore character.But 100 is invalid because variable name cannot be a number or begin with a number."
   ]
  },
  {
   "cell_type": "code",
   "execution_count": 20,
   "id": "3062ec71",
   "metadata": {},
   "outputs": [
    {
     "name": "stdout",
     "output_type": "stream",
     "text": [
      "Hello\n"
     ]
    }
   ],
   "source": [
    "egg='Hello' # Valid variable Initilization\n",
    "print(egg) #prints the value of egg ie Ineuron"
   ]
  },
  {
   "cell_type": "code",
   "execution_count": 21,
   "id": "c8039811",
   "metadata": {},
   "outputs": [
    {
     "ename": "SyntaxError",
     "evalue": "cannot assign to literal (3213567842.py, line 1)",
     "output_type": "error",
     "traceback": [
      "\u001b[1;36m  File \u001b[1;32m\"C:\\Users\\msi\\AppData\\Local\\Temp\\ipykernel_1208\\3213567842.py\"\u001b[1;36m, line \u001b[1;32m1\u001b[0m\n\u001b[1;33m    100='Hello' # Invalid Variable Initilization\u001b[0m\n\u001b[1;37m    ^\u001b[0m\n\u001b[1;31mSyntaxError\u001b[0m\u001b[1;31m:\u001b[0m cannot assign to literal\n"
     ]
    }
   ],
   "source": [
    "100='Hello' # Invalid Variable Initilization\n",
    "print(100)"
   ]
  },
  {
   "cell_type": "markdown",
   "id": "10deba2e",
   "metadata": {},
   "source": [
    "## 9. What three functions can be used to get the integer, floating-point number, or string version of a value?"
   ]
  },
  {
   "cell_type": "markdown",
   "id": "4a34de49",
   "metadata": {},
   "source": [
    "### Ans:\n",
    "\n",
    "The int(),float(),and str() functions will evaluate to the integer,floating-point number,string version of the value passed to them"
   ]
  },
  {
   "cell_type": "code",
   "execution_count": 22,
   "id": "f49399c8",
   "metadata": {},
   "outputs": [
    {
     "name": "stdout",
     "output_type": "stream",
     "text": [
      "int(9.0) ->  9\n",
      "float(9) ->  9.0\n",
      "str(9) ->  9\n"
     ]
    }
   ],
   "source": [
    "# Examples:\n",
    "print('int(9.0) -> ',int(9.0)) # int() function converts given input to int\n",
    "print('float(9) -> ',float(9)) # float() function converts given input to float\n",
    "print('str(9) -> ',str(9)) # str() function converts given input to string"
   ]
  },
  {
   "cell_type": "markdown",
   "id": "5a3d8b3a",
   "metadata": {},
   "source": [
    "## 10. Why does this expression cause an error? How can you fix it?\n",
    "&#39;I have eaten &#39; + 99 + &#39; burritos.&#39;"
   ]
  },
  {
   "cell_type": "markdown",
   "id": "fc906630",
   "metadata": {},
   "source": [
    "### Ans:\n",
    "The error is caused due to the integer value. Integer value cannot be concatenated with strings. We can fix this by converting the int value to string"
   ]
  },
  {
   "cell_type": "code",
   "execution_count": 23,
   "id": "be24c8cb",
   "metadata": {},
   "outputs": [
    {
     "ename": "TypeError",
     "evalue": "can only concatenate str (not \"int\") to str",
     "output_type": "error",
     "traceback": [
      "\u001b[1;31m---------------------------------------------------------------------------\u001b[0m",
      "\u001b[1;31mTypeError\u001b[0m                                 Traceback (most recent call last)",
      "\u001b[1;32m~\\AppData\\Local\\Temp\\ipykernel_1208\\207349434.py\u001b[0m in \u001b[0;36m<module>\u001b[1;34m\u001b[0m\n\u001b[1;32m----> 1\u001b[1;33m \u001b[0mprint\u001b[0m\u001b[1;33m(\u001b[0m\u001b[1;34m'I have eaten'\u001b[0m \u001b[1;33m+\u001b[0m \u001b[1;36m99\u001b[0m \u001b[1;33m+\u001b[0m \u001b[1;34m'burritos'\u001b[0m\u001b[1;33m)\u001b[0m\u001b[1;33m\u001b[0m\u001b[1;33m\u001b[0m\u001b[0m\n\u001b[0m",
      "\u001b[1;31mTypeError\u001b[0m: can only concatenate str (not \"int\") to str"
     ]
    }
   ],
   "source": [
    "print('I have eaten' + 99 + 'burritos')     # 99 is an integer so it cant be conacatenate with string"
   ]
  },
  {
   "cell_type": "code",
   "execution_count": 25,
   "id": "cfe96cea",
   "metadata": {},
   "outputs": [
    {
     "name": "stdout",
     "output_type": "stream",
     "text": [
      "I have eaten 99 burritos\n"
     ]
    }
   ],
   "source": [
    "print('I have eaten' + ' 99 ' + 'burritos') # Converting integer into string(typecasting)"
   ]
  },
  {
   "cell_type": "code",
   "execution_count": null,
   "id": "e8ce6486",
   "metadata": {},
   "outputs": [],
   "source": []
  }
 ],
 "metadata": {
  "kernelspec": {
   "display_name": "Python 3 (ipykernel)",
   "language": "python",
   "name": "python3"
  },
  "language_info": {
   "codemirror_mode": {
    "name": "ipython",
    "version": 3
   },
   "file_extension": ".py",
   "mimetype": "text/x-python",
   "name": "python",
   "nbconvert_exporter": "python",
   "pygments_lexer": "ipython3",
   "version": "3.9.13"
  }
 },
 "nbformat": 4,
 "nbformat_minor": 5
}
