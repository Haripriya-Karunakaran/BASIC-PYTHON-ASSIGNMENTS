{
 "cells": [
  {
   "cell_type": "markdown",
   "id": "77f5e45c",
   "metadata": {},
   "source": [
    "## 1.What are the two values of the Boolean data type? How do you write them?"
   ]
  },
  {
   "cell_type": "markdown",
   "id": "84c051fb",
   "metadata": {},
   "source": [
    "### Ans:\n",
    "True and False are two values of the boolen data types.\n"
   ]
  },
  {
   "cell_type": "code",
   "execution_count": 10,
   "id": "e321ee8d",
   "metadata": {},
   "outputs": [
    {
     "name": "stdout",
     "output_type": "stream",
     "text": [
      "True <class 'bool'>\n",
      "False <class 'bool'>\n"
     ]
    }
   ],
   "source": [
    "a=True\n",
    "b=False\n",
    "print(a,type(a))\n",
    "print(b,type(b))"
   ]
  },
  {
   "cell_type": "markdown",
   "id": "c05b7c3b",
   "metadata": {},
   "source": [
    "## 2. What are the three different types of Boolean operators?"
   ]
  },
  {
   "cell_type": "markdown",
   "id": "b45929b3",
   "metadata": {},
   "source": [
    "### Ans:\n",
    "The three differnt types of Boolean operators in python are: or,and,not."
   ]
  },
  {
   "cell_type": "code",
   "execution_count": 2,
   "id": "8993d21e",
   "metadata": {},
   "outputs": [
    {
     "name": "stdout",
     "output_type": "stream",
     "text": [
      "True\n",
      "True\n",
      "False\n"
     ]
    }
   ],
   "source": [
    "x=100\n",
    "y=200\n",
    "print(x>50 and y>100)  #and-both has to be true then true\n",
    "print(x>50 or y>100)   #or - one has to be true then true\n",
    "print(not(x>10))  #Statement false means true ,true means false"
   ]
  },
  {
   "cell_type": "markdown",
   "id": "0a4dc2dc",
   "metadata": {},
   "source": [
    "## 3. Make a list of each Boolean operator&#39;s truth tables (i.e. every possible combination of Boolean values for the operator and what it evaluate )."
   ]
  },
  {
   "cell_type": "markdown",
   "id": "0dcd26ab",
   "metadata": {},
   "source": [
    "### Ans:"
   ]
  },
  {
   "cell_type": "code",
   "execution_count": 3,
   "id": "16d0fac9",
   "metadata": {},
   "outputs": [],
   "source": [
    "# 1.Truth Table for AND operaotor\n",
    "# True and True is True\n",
    "# True and False is False\n",
    "# False and True is False\n",
    "# False and False is False\n",
    "\n",
    "# 2.Truth Table for OR operaotor\n",
    "# True and True is True\n",
    "# True and False is True\n",
    "# False and True is True\n",
    "# False and False is False\n",
    "\n",
    "# 3.Truth Table for NOT operaotor\n",
    "# True not is False False not is True"
   ]
  },
  {
   "cell_type": "markdown",
   "id": "2a91448b",
   "metadata": {},
   "source": [
    "## 4. What are the values of the following expressions?\n",
    "### (5 &gt; 4) and (3 == 5)\n",
    "### not (5 &gt; 4)\n",
    "### (5 &gt; 4) or (3 == 5)\n",
    "### not ((5 &gt; 4) or (3 == 5))\n",
    "### (True and True) and (True == False)\n",
    "### (not False) or (not True)"
   ]
  },
  {
   "cell_type": "markdown",
   "id": "1954db8a",
   "metadata": {},
   "source": [
    "### Ans:"
   ]
  },
  {
   "cell_type": "code",
   "execution_count": 4,
   "id": "12ba2372",
   "metadata": {},
   "outputs": [
    {
     "name": "stdout",
     "output_type": "stream",
     "text": [
      "False\n",
      "False\n",
      "True\n",
      "False\n",
      "False\n",
      "True\n"
     ]
    }
   ],
   "source": [
    "print((5>4)and(3==5)) # False\n",
    "print(not(5>4)) # False\n",
    "print((5>4)or(3==5)) # True\n",
    "print(not((5>4)or(3==5))) # False\n",
    "print((True and True)and(True==False)) # False\n",
    "print((not False)or(not True)) # True"
   ]
  },
  {
   "cell_type": "markdown",
   "id": "6d92320c",
   "metadata": {},
   "source": [
    "## 5. What are the six comparison operators?"
   ]
  },
  {
   "cell_type": "markdown",
   "id": "fa109faf",
   "metadata": {},
   "source": [
    "### Ans:\n",
    " The Six comparision operators available in python are:\n",
    "== , != , < , > , <= , =>"
   ]
  },
  {
   "cell_type": "markdown",
   "id": "96838866",
   "metadata": {},
   "source": [
    "## 6. How do you tell the difference between the equal to and assignment operators?Describe a condition and when you would use one."
   ]
  },
  {
   "cell_type": "markdown",
   "id": "5b6b7def",
   "metadata": {},
   "source": [
    "### Ans:\n",
    "== is the equal to operator that compares two values and evaluates to a Boolean, while = is a assignment operator that stores a value in a variable.\n",
    "\n"
   ]
  },
  {
   "cell_type": "code",
   "execution_count": 5,
   "id": "16e430c7",
   "metadata": {},
   "outputs": [
    {
     "name": "stdout",
     "output_type": "stream",
     "text": [
      "True\n"
     ]
    }
   ],
   "source": [
    "X = 4\n",
    "if(X == 4):\n",
    "  print(X == 4)"
   ]
  },
  {
   "cell_type": "markdown",
   "id": "a38f991f",
   "metadata": {},
   "source": [
    "## 7. Identify the three blocks in this code:\n",
    "\n",
    "spam = 0\n",
    "if spam == 10:\n",
    "print(&#39;eggs&#39;)\n",
    "if spam &gt; 5:\n",
    "print(&#39;bacon&#39;)\n",
    "else:\n",
    "print(&#39;ham&#39;)\n",
    "print(&#39;spam&#39;)\n",
    "print(&#39;spam&#39;)"
   ]
  },
  {
   "cell_type": "markdown",
   "id": "9fc53a24",
   "metadata": {},
   "source": [
    "### Ans:\n",
    "In Python, code block refers to a collection of code that is in the same block or indent. This is most commonly found in classes, functions, and loops."
   ]
  },
  {
   "cell_type": "code",
   "execution_count": 1,
   "id": "e0904853",
   "metadata": {},
   "outputs": [
    {
     "name": "stdout",
     "output_type": "stream",
     "text": [
      "ham\n",
      "spam\n",
      "spam\n"
     ]
    }
   ],
   "source": [
    "spam = 0  \n",
    "if spam == 10:  \n",
    "    print('eggs')  # block #1\n",
    "if spam > 5:  \n",
    "    print('bacon')  # block #2\n",
    "else:  \n",
    "    print('ham')  # block #3\n",
    "print('spam')  \n",
    "print('spam')"
   ]
  },
  {
   "cell_type": "markdown",
   "id": "be5ee4aa",
   "metadata": {},
   "source": [
    "## 8. Write code that prints Hello if 1 is stored in spam, prints Howdy if 2 is stored in spam, and prints Greetings! if anything else is stored in spam."
   ]
  },
  {
   "cell_type": "code",
   "execution_count": 3,
   "id": "7047f027",
   "metadata": {},
   "outputs": [
    {
     "name": "stdout",
     "output_type": "stream",
     "text": [
      "Enter value:- 7\n",
      "Greetings\n"
     ]
    }
   ],
   "source": [
    "spam = int(input(\"Enter value:- \"))\n",
    "if spam == 1:\n",
    "  print('Hello') \n",
    "elif spam == 2:\n",
    "  print('Howdy') \n",
    "else: \n",
    "  print('Greetings')"
   ]
  },
  {
   "cell_type": "markdown",
   "id": "369c5bc0",
   "metadata": {},
   "source": [
    "## 9.If your programme is stuck in an endless loop, what keys you’ll press?"
   ]
  },
  {
   "cell_type": "markdown",
   "id": "95c753d0",
   "metadata": {},
   "source": [
    "### Ans:\n",
    "Press Ctrl-c to stop a program stuck in an infinite loop"
   ]
  },
  {
   "cell_type": "markdown",
   "id": "e8b0f95f",
   "metadata": {},
   "source": [
    "## 10. How can you tell the difference between break and continue?"
   ]
  },
  {
   "cell_type": "markdown",
   "id": "fd55fe90",
   "metadata": {},
   "source": [
    "### Ans:\n",
    "The break statement will move the execution outside the loop if break condition is satisfied. Whereas the continue\n",
    "\n",
    "statement will move the execution to the start of the loop."
   ]
  },
  {
   "cell_type": "markdown",
   "id": "23386e34",
   "metadata": {},
   "source": [
    "## 11. In a for loop, what is the difference between range(10), range(0, 10), and range(0, 10, 1)?"
   ]
  },
  {
   "cell_type": "markdown",
   "id": "37c0951d",
   "metadata": {},
   "source": [
    "### Ans:\n",
    "The range(10) call range from 0 to 9 (but not include 10).\n",
    "\n",
    "The range (0,10) explicitly tells the loop to start at 0.\n",
    "\n",
    "The range(0,10,1) explicitly tells the loop to increase the variable by 1 on each iteration"
   ]
  },
  {
   "cell_type": "markdown",
   "id": "fe71825f",
   "metadata": {},
   "source": [
    "## 12. Write a short program that prints the numbers 1 to 10 using a for loop. Then write an equivalent program that prints the numbers 1 to 10 using a while loop."
   ]
  },
  {
   "cell_type": "code",
   "execution_count": 9,
   "id": "1f60873a",
   "metadata": {},
   "outputs": [
    {
     "name": "stdout",
     "output_type": "stream",
     "text": [
      "Using For Loop\n",
      "1 2 3 4 5 6 7 8 9 10 \n",
      "\n",
      "Using While Loop\n",
      "1 2 3 4 5 6 7 8 9 10 "
     ]
    }
   ],
   "source": [
    "# Using for loop\n",
    "print(\"Using For Loop\")\n",
    "for i in range(1,11):\n",
    "    print(i,end=\" \")\n",
    "print(\"\\n\")\n",
    "    \n",
    "#using while loop\n",
    "print(\"Using While Loop\")\n",
    "i = 1\n",
    "while i < 11:\n",
    "    print(i,end=\" \")\n",
    "    i+=1"
   ]
  },
  {
   "cell_type": "markdown",
   "id": "63d8c8a0",
   "metadata": {},
   "source": [
    "## 13. If you had a function named bacon() inside a module named spam, how would you call it after importing spam?"
   ]
  },
  {
   "cell_type": "markdown",
   "id": "41c568c2",
   "metadata": {},
   "source": [
    "### Ans:\n",
    "\n",
    "This function can be called with spam.bacon()"
   ]
  },
  {
   "cell_type": "code",
   "execution_count": null,
   "id": "51f14805",
   "metadata": {},
   "outputs": [],
   "source": []
  }
 ],
 "metadata": {
  "kernelspec": {
   "display_name": "Python 3 (ipykernel)",
   "language": "python",
   "name": "python3"
  },
  "language_info": {
   "codemirror_mode": {
    "name": "ipython",
    "version": 3
   },
   "file_extension": ".py",
   "mimetype": "text/x-python",
   "name": "python",
   "nbconvert_exporter": "python",
   "pygments_lexer": "ipython3",
   "version": "3.9.13"
  }
 },
 "nbformat": 4,
 "nbformat_minor": 5
}
