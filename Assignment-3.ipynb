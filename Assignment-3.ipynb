{
 "cells": [
  {
   "cell_type": "markdown",
   "id": "3671949e",
   "metadata": {},
   "source": [
    "## 1. Why are functions advantageous to have in your programs?"
   ]
  },
  {
   "cell_type": "markdown",
   "id": "1d1e8e73",
   "metadata": {},
   "source": [
    "### Ans:\n",
    "1.Funtions are advantageous because once we define a function we can call it multiple times wherever needed.\n",
    "\n",
    "2.Functions reduce the need for duplicate code.This makes programs shorter, easier to read, and easier to update."
   ]
  },
  {
   "cell_type": "markdown",
   "id": "3f58b7d3",
   "metadata": {},
   "source": [
    "## 2. When does the code in a function run: when it&#39;s specified or when it&#39;s called?"
   ]
  },
  {
   "cell_type": "markdown",
   "id": "cab8e4c4",
   "metadata": {},
   "source": [
    "### Ans:\n",
    "The code in a function executes when the function is called, not when the function is specified."
   ]
  },
  {
   "cell_type": "markdown",
   "id": "3d7523cd",
   "metadata": {},
   "source": [
    "## 3. What statement creates a function?"
   ]
  },
  {
   "cell_type": "markdown",
   "id": "a60e7dd4",
   "metadata": {},
   "source": [
    "### Ans:\n",
    "The def statement defines a function"
   ]
  },
  {
   "cell_type": "code",
   "execution_count": 2,
   "id": "0f282c5f",
   "metadata": {},
   "outputs": [],
   "source": [
    "#Syntax for def function\n",
    "def function_name(parameters):\n",
    "    # function body \n",
    "\n",
    "    return"
   ]
  },
  {
   "cell_type": "markdown",
   "id": "626dbc6b",
   "metadata": {},
   "source": [
    "## 4. What is the difference between a function and a function call?"
   ]
  },
  {
   "cell_type": "markdown",
   "id": "1dc0039f",
   "metadata": {},
   "source": [
    "### Ans:\n",
    "A function is procedure to achieve a particular result while function call is using this function to acheive that task.\n",
    "\n",
    "Using a function to do a particular task any point in program is called as function call."
   ]
  },
  {
   "cell_type": "markdown",
   "id": "78c85fb5",
   "metadata": {},
   "source": [
    "## 5. How many global scopes are there in a Python program? How many local scopes?"
   ]
  },
  {
   "cell_type": "markdown",
   "id": "21c41779",
   "metadata": {},
   "source": [
    "### Ans:\n",
    "There is one global scope, and a local scope is created whenever a function is called."
   ]
  },
  {
   "cell_type": "markdown",
   "id": "8234b5b1",
   "metadata": {},
   "source": [
    "## 6. What happens to variables in a local scope when the function call returns?"
   ]
  },
  {
   "cell_type": "markdown",
   "id": "6a9cdf80",
   "metadata": {},
   "source": [
    "### Ans:\n",
    "When the function call returns all the local scope are destroyed and removed from the memory."
   ]
  },
  {
   "cell_type": "markdown",
   "id": "30b0ae26",
   "metadata": {},
   "source": [
    "## 7. What is the concept of a return value? Is it possible to have a return value in an expression?"
   ]
  },
  {
   "cell_type": "markdown",
   "id": "a036c6ac",
   "metadata": {},
   "source": [
    "### Ans:\n",
    "A return value is the value that a function call evaluates to. Like any value, a return value can be used as part of an \n",
    "expression.\n"
   ]
  },
  {
   "cell_type": "markdown",
   "id": "8286d57e",
   "metadata": {},
   "source": [
    "## 8. If a function does not have a return statement, what is the return value of a call to that function?"
   ]
  },
  {
   "cell_type": "markdown",
   "id": "ec6e4a3c",
   "metadata": {},
   "source": [
    "### Ans:\n",
    " If there is no return statement for a function, its return value is None."
   ]
  },
  {
   "cell_type": "markdown",
   "id": "ae033d31",
   "metadata": {},
   "source": [
    "## 9. How do you make a function variable refer to the global variable?"
   ]
  },
  {
   "cell_type": "markdown",
   "id": "d346d395",
   "metadata": {},
   "source": [
    "### Ans:\n",
    " A global statement will force a variable in a function to refer to the global variable If you want to refer to a global variable in a function, you can use the global keyword to declare which variables are global"
   ]
  },
  {
   "cell_type": "markdown",
   "id": "866fc9f7",
   "metadata": {},
   "source": [
    "## 10. What is the data type of None?"
   ]
  },
  {
   "cell_type": "markdown",
   "id": "6f0f9cee",
   "metadata": {},
   "source": [
    "### Ans:\n",
    "The data type of None is NoneType."
   ]
  },
  {
   "cell_type": "markdown",
   "id": "004b272e",
   "metadata": {},
   "source": [
    "## 11. What does the sentence import areallyourpetsnamederic do?"
   ]
  },
  {
   "cell_type": "markdown",
   "id": "6a80e514",
   "metadata": {},
   "source": [
    "### Ans:\n",
    "That import statement imports a module named areallyourpetsnamederic."
   ]
  },
  {
   "cell_type": "markdown",
   "id": "c2ce6d5b",
   "metadata": {},
   "source": [
    "## 12. If you had a bacon() feature in a spam module, what would you call it after importing spam?"
   ]
  },
  {
   "cell_type": "markdown",
   "id": "3fe911f8",
   "metadata": {},
   "source": [
    "### Ans:\n",
    "This function can be called with spam.bacon()."
   ]
  },
  {
   "cell_type": "markdown",
   "id": "1e164102",
   "metadata": {},
   "source": [
    "## 13. What can you do to save a programme from crashing if it encounters an error?"
   ]
  },
  {
   "cell_type": "markdown",
   "id": "7bb23915",
   "metadata": {},
   "source": [
    "### Ans:\n",
    "Place the line of code that might cause an error in a try clause."
   ]
  },
  {
   "cell_type": "markdown",
   "id": "8e1a103f",
   "metadata": {},
   "source": [
    "## 14. What is the purpose of the try clause? What is the purpose of the except clause?"
   ]
  },
  {
   "cell_type": "markdown",
   "id": "e18fa0e9",
   "metadata": {},
   "source": [
    "### Ans:\n",
    "The code that could potentially cause an error goes in the try clause. The code that executes if an error happens goes in the except clause."
   ]
  }
 ],
 "metadata": {
  "kernelspec": {
   "display_name": "Python 3 (ipykernel)",
   "language": "python",
   "name": "python3"
  },
  "language_info": {
   "codemirror_mode": {
    "name": "ipython",
    "version": 3
   },
   "file_extension": ".py",
   "mimetype": "text/x-python",
   "name": "python",
   "nbconvert_exporter": "python",
   "pygments_lexer": "ipython3",
   "version": "3.9.13"
  }
 },
 "nbformat": 4,
 "nbformat_minor": 5
}
