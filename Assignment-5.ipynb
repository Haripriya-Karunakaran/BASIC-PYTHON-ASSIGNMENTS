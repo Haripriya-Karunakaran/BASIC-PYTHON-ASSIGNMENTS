{
 "cells": [
  {
   "cell_type": "markdown",
   "id": "f23f8378",
   "metadata": {},
   "source": [
    "## 1. What does an empty dictionary&#39;s code look like?"
   ]
  },
  {
   "cell_type": "markdown",
   "id": "e206fe15",
   "metadata": {},
   "source": [
    "### Ans:\n",
    " An empty dictionary is often represented by two empty curly brackets\n",
    "d = { } or d = dict( )"
   ]
  },
  {
   "cell_type": "code",
   "execution_count": 1,
   "id": "73f34f9a",
   "metadata": {},
   "outputs": [
    {
     "data": {
      "text/plain": [
       "{}"
      ]
     },
     "execution_count": 1,
     "metadata": {},
     "output_type": "execute_result"
    }
   ],
   "source": [
    "d=dict()\n",
    "d"
   ]
  },
  {
   "cell_type": "markdown",
   "id": "a05260f5",
   "metadata": {},
   "source": [
    "## 2. What is the value of a dictionary value with the key &#39;foo&#39; and the value 42?"
   ]
  },
  {
   "cell_type": "markdown",
   "id": "5c7e7183",
   "metadata": {},
   "source": [
    "### Ans:\n",
    "{'foo':42}"
   ]
  },
  {
   "cell_type": "markdown",
   "id": "28162ac4",
   "metadata": {},
   "source": [
    "## 3. What is the most significant distinction between a dictionary and a list?"
   ]
  },
  {
   "cell_type": "markdown",
   "id": "c59bdf70",
   "metadata": {},
   "source": [
    "### Ans:\n",
    "Dictionaries are represented by { } where as listed are represented by [ ].\n",
    "\n",
    "The Items stored in a dictionary are Unordered , while the items in a list are ordered."
   ]
  },
  {
   "cell_type": "markdown",
   "id": "396c295d",
   "metadata": {},
   "source": [
    "## 4. What happens if you try to access spam[&#39;foo&#39;] if spam is {&#39;bar&#39;: 100}?"
   ]
  },
  {
   "cell_type": "markdown",
   "id": "cf1c3926",
   "metadata": {},
   "source": [
    "### Ans:\n",
    "we will get a keyError error: 'foo'"
   ]
  },
  {
   "cell_type": "code",
   "execution_count": 2,
   "id": "ce14eb74",
   "metadata": {},
   "outputs": [
    {
     "ename": "KeyError",
     "evalue": "'foo'",
     "output_type": "error",
     "traceback": [
      "\u001b[1;31m---------------------------------------------------------------------------\u001b[0m",
      "\u001b[1;31mKeyError\u001b[0m                                  Traceback (most recent call last)",
      "\u001b[1;32m~\\AppData\\Local\\Temp\\ipykernel_9976\\414641506.py\u001b[0m in \u001b[0;36m<module>\u001b[1;34m\u001b[0m\n\u001b[0;32m      1\u001b[0m \u001b[0mspam\u001b[0m \u001b[1;33m=\u001b[0m \u001b[1;33m{\u001b[0m\u001b[1;34m'bar'\u001b[0m\u001b[1;33m:\u001b[0m \u001b[1;36m100\u001b[0m\u001b[1;33m}\u001b[0m\u001b[1;33m\u001b[0m\u001b[1;33m\u001b[0m\u001b[0m\n\u001b[1;32m----> 2\u001b[1;33m \u001b[0mspam\u001b[0m\u001b[1;33m[\u001b[0m\u001b[1;34m'foo'\u001b[0m\u001b[1;33m]\u001b[0m\u001b[1;33m\u001b[0m\u001b[1;33m\u001b[0m\u001b[0m\n\u001b[0m",
      "\u001b[1;31mKeyError\u001b[0m: 'foo'"
     ]
    }
   ],
   "source": [
    "spam = {'bar': 100}\n",
    "spam['foo']"
   ]
  },
  {
   "cell_type": "markdown",
   "id": "f4e3cf06",
   "metadata": {},
   "source": [
    "## 5. If a dictionary is stored in spam, what is the difference between the expressions &#39;cat&#39; in spam and &#39;cat&#39; in spam.keys()?"
   ]
  },
  {
   "cell_type": "markdown",
   "id": "2b84146b",
   "metadata": {},
   "source": [
    "### Ans:\n",
    "There is no difference. The operator checks whether a value exists as a key in the dictionary or not."
   ]
  },
  {
   "cell_type": "markdown",
   "id": "b17e8c6f",
   "metadata": {},
   "source": [
    "## 6. If a dictionary is stored in spam, what is the difference between the expressions &#39;cat&#39; in spam and &#39;cat&#39; in spam.values()?"
   ]
  },
  {
   "cell_type": "markdown",
   "id": "ecf75eac",
   "metadata": {},
   "source": [
    "### Ans:\n",
    "'cat' in spam checks whether there is a 'cat' key in the dictionary, while 'cat' in spam.values() checks whether there is a value 'cat' for one of the keys in spam."
   ]
  },
  {
   "cell_type": "markdown",
   "id": "a378a93a",
   "metadata": {},
   "source": [
    "## 7. What is a shortcut for the following code?\n",
    "## if &#39;color&#39; not in spam: \n",
    "## spam[&#39;color&#39;] = &#39;black&#39;"
   ]
  },
  {
   "cell_type": "markdown",
   "id": "7c074aeb",
   "metadata": {},
   "source": [
    "### Ans:\n",
    "spam.setdefault('color','black')"
   ]
  },
  {
   "cell_type": "code",
   "execution_count": 3,
   "id": "3eaf10f4",
   "metadata": {},
   "outputs": [
    {
     "data": {
      "text/plain": [
       "'black'"
      ]
     },
     "execution_count": 3,
     "metadata": {},
     "output_type": "execute_result"
    }
   ],
   "source": [
    "spam.setdefault('color','black')"
   ]
  },
  {
   "cell_type": "markdown",
   "id": "7198c1c1",
   "metadata": {},
   "source": [
    "## 8. How do you &quot;pretty print&quot; dictionary values using which module and function?"
   ]
  },
  {
   "cell_type": "markdown",
   "id": "b5a2f6f3",
   "metadata": {},
   "source": [
    "### Ans:\n",
    "we can pretty print a dictionary using three functions\n",
    "\n",
    "1.by using pprint() function of pprint module. \n",
    "#### Note: pprint() function doesnot prettify nested dictionaries\n",
    "\n",
    "2.by using dumps() method of json module\n",
    "\n",
    "3.by using dumps() method of yaml module"
   ]
  },
  {
   "cell_type": "code",
   "execution_count": 4,
   "id": "54ee12fe",
   "metadata": {},
   "outputs": [
    {
     "name": "stdout",
     "output_type": "stream",
     "text": [
      "Printing using print() function\n",
      " [{'Name': 'John', 'Age': '23', 'Residence': {'Country': 'USA', 'City': 'New York'}}, {'Name': 'Jose', 'Age': '44', 'Residence': {'Country': 'Spain', 'City': 'Madrid'}}, {'Name': 'Anne', 'Age': '29', 'Residence': {'Country': 'UK', 'City': 'England'}}, {'Name': 'Lee', 'Age': '35', 'Residence': {'Country': 'Japan', 'City': 'Osaka'}}]\n",
      "----------------------------------------------------------------------\n",
      "Printing using pprint() funciton\n",
      "[{'Age': '23',\n",
      "  'Name': 'John',\n",
      "  'Residence': {'City': 'New York', 'Country': 'USA'}},\n",
      " {'Age': '44',\n",
      "  'Name': 'Jose',\n",
      "  'Residence': {'City': 'Madrid', 'Country': 'Spain'}},\n",
      " {'Age': '29',\n",
      "  'Name': 'Anne',\n",
      "  'Residence': {'City': 'England', 'Country': 'UK'}},\n",
      " {'Age': '35',\n",
      "  'Name': 'Lee',\n",
      "  'Residence': {'City': 'Osaka', 'Country': 'Japan'}}]\n",
      "----------------------------------------------------------------------\n",
      "Printing using dumps() method\n",
      " [\n",
      "    {\n",
      "        \"Name\": \"John\",\n",
      "        \"Age\": \"23\",\n",
      "        \"Residence\": {\n",
      "            \"Country\": \"USA\",\n",
      "            \"City\": \"New York\"\n",
      "        }\n",
      "    },\n",
      "    {\n",
      "        \"Name\": \"Jose\",\n",
      "        \"Age\": \"44\",\n",
      "        \"Residence\": {\n",
      "            \"Country\": \"Spain\",\n",
      "            \"City\": \"Madrid\"\n",
      "        }\n",
      "    },\n",
      "    {\n",
      "        \"Name\": \"Anne\",\n",
      "        \"Age\": \"29\",\n",
      "        \"Residence\": {\n",
      "            \"Country\": \"UK\",\n",
      "            \"City\": \"England\"\n",
      "        }\n",
      "    },\n",
      "    {\n",
      "        \"Name\": \"Lee\",\n",
      "        \"Age\": \"35\",\n",
      "        \"Residence\": {\n",
      "            \"Country\": \"Japan\",\n",
      "            \"City\": \"Osaka\"\n",
      "        }\n",
      "    }\n",
      "]\n",
      "----------------------------------------------------------------------\n",
      "Printing using dump() method\n",
      " - Age: '23'\n",
      "  Name: John\n",
      "  Residence:\n",
      "    City: New York\n",
      "    Country: USA\n",
      "- Age: '44'\n",
      "  Name: Jose\n",
      "  Residence:\n",
      "    City: Madrid\n",
      "    Country: Spain\n",
      "- Age: '29'\n",
      "  Name: Anne\n",
      "  Residence:\n",
      "    City: England\n",
      "    Country: UK\n",
      "- Age: '35'\n",
      "  Name: Lee\n",
      "  Residence:\n",
      "    City: Osaka\n",
      "    Country: Japan\n",
      "\n"
     ]
    }
   ],
   "source": [
    "ndict = [\n",
    "  {'Name': 'John', 'Age': '23', 'Residence': {'Country':'USA', 'City': 'New York'}},\n",
    "  {'Name': 'Jose', 'Age': '44', 'Residence': {'Country':'Spain', 'City': 'Madrid'}},\n",
    "  {'Name': 'Anne', 'Age': '29', 'Residence': {'Country':'UK', 'City': 'England'}},\n",
    "  {'Name': 'Lee', 'Age': '35', 'Residence': {'Country':'Japan', 'City': 'Osaka'}}\n",
    "]\n",
    "\n",
    "print('Printing using print() function\\n',ndict)\n",
    "print('-'*70)\n",
    "import pprint\n",
    "print('Printing using pprint() funciton')\n",
    "pprint.pprint(ndict)\n",
    "print('-'*70)\n",
    "import json\n",
    "dump = json.dumps(ndict, indent=4)\n",
    "print('Printing using dumps() method\\n', dump)\n",
    "print('-'*70)\n",
    "import yaml\n",
    "dump = yaml.dump(ndict)\n",
    "print('Printing using dump() method\\n', dump)"
   ]
  },
  {
   "cell_type": "code",
   "execution_count": null,
   "id": "e77b6941",
   "metadata": {},
   "outputs": [],
   "source": []
  }
 ],
 "metadata": {
  "kernelspec": {
   "display_name": "Python 3 (ipykernel)",
   "language": "python",
   "name": "python3"
  },
  "language_info": {
   "codemirror_mode": {
    "name": "ipython",
    "version": 3
   },
   "file_extension": ".py",
   "mimetype": "text/x-python",
   "name": "python",
   "nbconvert_exporter": "python",
   "pygments_lexer": "ipython3",
   "version": "3.9.13"
  }
 },
 "nbformat": 4,
 "nbformat_minor": 5
}
