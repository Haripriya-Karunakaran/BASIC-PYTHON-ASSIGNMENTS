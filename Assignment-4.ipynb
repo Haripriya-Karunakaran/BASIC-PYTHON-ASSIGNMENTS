{
 "cells": [
  {
   "cell_type": "markdown",
   "id": "8aeb1f8c",
   "metadata": {},
   "source": [
    "## 1. What exactly is [  ]?"
   ]
  },
  {
   "cell_type": "markdown",
   "id": "53079ea1",
   "metadata": {},
   "source": [
    "### Ans:\n",
    "The empty list represented by [  ] is a list that contains no items. "
   ]
  },
  {
   "cell_type": "markdown",
   "id": "07e94d7d",
   "metadata": {},
   "source": [
    "## 2. In a list of values stored in a variable called spam, how would you assign the value &#39;hello&#39; as the third value? (Assume [2, 4, 6, 8, 10] are in spam.)"
   ]
  },
  {
   "cell_type": "markdown",
   "id": "bcb5736d",
   "metadata": {},
   "source": [
    "### Ans:\n",
    "spam[2]='hello'."
   ]
  },
  {
   "cell_type": "code",
   "execution_count": 1,
   "id": "97cbe816",
   "metadata": {},
   "outputs": [
    {
     "name": "stdout",
     "output_type": "stream",
     "text": [
      "[2, 4, 'hello', 8, 10]\n"
     ]
    }
   ],
   "source": [
    "# Example\n",
    "spam=[2,4,6,8,10]\n",
    "spam[2]='hello' #List uses zero based indexing\n",
    "print(spam)"
   ]
  },
  {
   "cell_type": "markdown",
   "id": "2b7b4ec0",
   "metadata": {},
   "source": [
    "## Let&#39;s pretend the spam includes the list [&#39;a&#39;, &#39;b&#39;, &#39;c&#39;, &#39;d&#39;] for the next three queries."
   ]
  },
  {
   "cell_type": "markdown",
   "id": "3cc119f5",
   "metadata": {},
   "source": [
    "## 3. What is the value of spam[int(int(&#39;3&#39; * 2) / 11)]?"
   ]
  },
  {
   "cell_type": "markdown",
   "id": "5a2bbdc8",
   "metadata": {},
   "source": [
    "### Ans:\n",
    "'d' - (Note that '3' * 2 is the string '33', which is passed to int() before being divided by 11. This eventually evaluates to 3, spam[3] is equal to d.)"
   ]
  },
  {
   "cell_type": "code",
   "execution_count": 2,
   "id": "687fed64",
   "metadata": {},
   "outputs": [
    {
     "name": "stdout",
     "output_type": "stream",
     "text": [
      "d\n"
     ]
    }
   ],
   "source": [
    "spam=['a','b','c','d']\n",
    "print(spam[int(int('3'*2)//11)])"
   ]
  },
  {
   "cell_type": "markdown",
   "id": "d4fbfbd5",
   "metadata": {},
   "source": [
    "## 4. What is the value of spam[-1]?"
   ]
  },
  {
   "cell_type": "markdown",
   "id": "50338d68",
   "metadata": {},
   "source": [
    "### Ans:\n",
    "'d' - (Lists support Negative indexing, Hence spam[-1] returns 'd')."
   ]
  },
  {
   "cell_type": "code",
   "execution_count": 3,
   "id": "4ce45a26",
   "metadata": {},
   "outputs": [
    {
     "name": "stdout",
     "output_type": "stream",
     "text": [
      "d\n"
     ]
    }
   ],
   "source": [
    "spam=['a','b','c','d']\n",
    "print(spam[-1])"
   ]
  },
  {
   "cell_type": "markdown",
   "id": "288529e8",
   "metadata": {},
   "source": [
    "## 5. What is the value of spam[:2]?"
   ]
  },
  {
   "cell_type": "markdown",
   "id": "a5aacb8d",
   "metadata": {},
   "source": [
    "### Ans:\n",
    "spam[:2] returns all elements in the list spam from 0 to 2 excluding 2."
   ]
  },
  {
   "cell_type": "code",
   "execution_count": 4,
   "id": "262b58ac",
   "metadata": {},
   "outputs": [
    {
     "name": "stdout",
     "output_type": "stream",
     "text": [
      "['a', 'b']\n"
     ]
    }
   ],
   "source": [
    "spam=['a','b','c','d']\n",
    "print(spam[:2])"
   ]
  },
  {
   "cell_type": "markdown",
   "id": "a4b8cf47",
   "metadata": {},
   "source": [
    "## Let&#39;s pretend bacon has the list [3.14, &#39;cat,&#39; 11, &#39;cat,&#39; True] for the next three questions."
   ]
  },
  {
   "cell_type": "markdown",
   "id": "749c6eb7",
   "metadata": {},
   "source": [
    "## 6. What is the value of bacon.index(&#39;cat&#39;)?"
   ]
  },
  {
   "cell_type": "markdown",
   "id": "51bedb3e",
   "metadata": {},
   "source": [
    "### Ans:\n",
    " The value of bacon.index('cat') is 1."
   ]
  },
  {
   "cell_type": "code",
   "execution_count": 5,
   "id": "debfebaa",
   "metadata": {},
   "outputs": [
    {
     "name": "stdout",
     "output_type": "stream",
     "text": [
      "1\n"
     ]
    }
   ],
   "source": [
    "bacon=[3.14,'cat',11,'cat',True]\n",
    "print(bacon.index('cat'))"
   ]
  },
  {
   "cell_type": "markdown",
   "id": "1f79148a",
   "metadata": {},
   "source": [
    "## 7. How does bacon.append(99) change the look of the list value in bacon?"
   ]
  },
  {
   "cell_type": "markdown",
   "id": "793373e6",
   "metadata": {},
   "source": [
    "### Ans:\n",
    "The append method adds new elements at the end of the list"
   ]
  },
  {
   "cell_type": "code",
   "execution_count": 6,
   "id": "34eb3b36",
   "metadata": {},
   "outputs": [
    {
     "name": "stdout",
     "output_type": "stream",
     "text": [
      "Before Append -  [3.14, 'cat', 11, 'cat', True]\n",
      "After Append -  [3.14, 'cat', 11, 'cat', True, 99]\n"
     ]
    }
   ],
   "source": [
    "print(\"Before Append - \", bacon)\n",
    "bacon.append(99)\n",
    "print(\"After Append - \", bacon)"
   ]
  },
  {
   "cell_type": "markdown",
   "id": "f69d54e0",
   "metadata": {},
   "source": [
    "## 8. How does bacon.remove(&#39;cat&#39;) change the look of the list in bacon?"
   ]
  },
  {
   "cell_type": "markdown",
   "id": "9a46abb0",
   "metadata": {},
   "source": [
    "### Ans:\n",
    "The remove method removes the first occurence of the element in the list."
   ]
  },
  {
   "cell_type": "code",
   "execution_count": 7,
   "id": "43108caa",
   "metadata": {},
   "outputs": [
    {
     "name": "stdout",
     "output_type": "stream",
     "text": [
      "Before Remove [3.14, 'cat', 11, 'cat', True, 99]\n",
      "After Remove [3.14, 11, 'cat', True, 99]\n"
     ]
    }
   ],
   "source": [
    "print(\"Before Remove\", bacon)\n",
    "bacon.remove('cat')\n",
    "print(\"After Remove\", bacon)"
   ]
  },
  {
   "cell_type": "markdown",
   "id": "a3f40beb",
   "metadata": {},
   "source": [
    "## 9. What are the list concatenation and list replication operators?"
   ]
  },
  {
   "cell_type": "markdown",
   "id": "b0f78dab",
   "metadata": {},
   "source": [
    "### Ans:\n",
    "The operator for list concatenation is +, while the operator for replication is *. (This is the same as for strings.)"
   ]
  },
  {
   "cell_type": "code",
   "execution_count": 8,
   "id": "7aa3337f",
   "metadata": {},
   "outputs": [
    {
     "name": "stdout",
     "output_type": "stream",
     "text": [
      "['Apple', 'Mango', 'Orange', 'Grapes', 'Berry']\n",
      "['Grapes', 'Berry', 'Grapes', 'Berry']\n"
     ]
    }
   ],
   "source": [
    "# Example\n",
    "list_1 = ['Apple','Mango','Orange']\n",
    "list_2 = ['Grapes','Berry']\n",
    "print(list_1 + list_2) # List Concatenation\n",
    "print(list_2*2) # List Replication"
   ]
  },
  {
   "cell_type": "markdown",
   "id": "32f7bfbd",
   "metadata": {},
   "source": [
    "## 10. What is difference between the list methods append() and insert()?\n"
   ]
  },
  {
   "cell_type": "markdown",
   "id": "d93df03f",
   "metadata": {},
   "source": [
    "### Ans:\n",
    "The append() will add values only to the end of a list, insert() can add them anywhere in the list"
   ]
  },
  {
   "cell_type": "code",
   "execution_count": 9,
   "id": "122bf274",
   "metadata": {},
   "outputs": [
    {
     "name": "stdout",
     "output_type": "stream",
     "text": [
      "[1, 2, 3, 4, 5, 6]\n",
      "[1, 2, 'Hi', 3, 4, 5, 6]\n"
     ]
    }
   ],
   "source": [
    "#Examples\n",
    "list = [1,2,3,4,5]\n",
    "list.append(6)\n",
    "print(list)\n",
    "list.insert(2,'Hi')\n",
    "print(list)"
   ]
  },
  {
   "cell_type": "markdown",
   "id": "281fa278",
   "metadata": {},
   "source": [
    "## 11. What are the two methods for removing items from a list?"
   ]
  },
  {
   "cell_type": "markdown",
   "id": "d2d06c34",
   "metadata": {},
   "source": [
    "### Ans:\n",
    "The del statement and the remove( ) method are two ways to remove values from a list."
   ]
  },
  {
   "cell_type": "markdown",
   "id": "1363452c",
   "metadata": {},
   "source": [
    "## 12. Describe how list values and string values are identical."
   ]
  },
  {
   "cell_type": "markdown",
   "id": "02f652c2",
   "metadata": {},
   "source": [
    "### Ans:\n",
    "Both lists and strings can be passed to len( ) function, have indexes and slices, be used in for loops, be concatenated or replicated, and be used with the in and not in operators."
   ]
  },
  {
   "cell_type": "markdown",
   "id": "d9298426",
   "metadata": {},
   "source": [
    "## 13. What's the difference between tuples and lists?\n"
   ]
  },
  {
   "cell_type": "markdown",
   "id": "68543bb8",
   "metadata": {},
   "source": [
    "### Ans:\n",
    "Lists are Mutable, Indexable and Slicable. they can have values added, removed, or changed. Tuples are Immutable but Indexable and Slicable. the tuple values cannot be changed at all. Also, tuples are represented using parentheses, (  ), while lists use the square brackets, [  ]."
   ]
  },
  {
   "cell_type": "markdown",
   "id": "d4b49997",
   "metadata": {},
   "source": [
    "## 14. How do you type a tuple value that only contains the integer 42?\n"
   ]
  },
  {
   "cell_type": "markdown",
   "id": "d64b7903",
   "metadata": {},
   "source": [
    "### Ans:\n",
    "(42,) (The trailing comma is mandatory. otherwise its considered as a int by python Interpreter)"
   ]
  },
  {
   "cell_type": "code",
   "execution_count": 10,
   "id": "b59598bc",
   "metadata": {},
   "outputs": [
    {
     "name": "stdout",
     "output_type": "stream",
     "text": [
      "<class 'int'>\n",
      "<class 'tuple'>\n"
     ]
    }
   ],
   "source": [
    "tup=(42)\n",
    "print(type(tup))\n",
    "\n",
    "tup=(42,)\n",
    "print(type(tup))"
   ]
  },
  {
   "cell_type": "markdown",
   "id": "bbc827e4",
   "metadata": {},
   "source": [
    "## 15. How do you get a list value's tuple form? How do you get a tuple value's list form?\n"
   ]
  },
  {
   "cell_type": "markdown",
   "id": "1a0435cb",
   "metadata": {},
   "source": [
    "### Ans:\n",
    "The tuple( ) and list( ) functions, respectively are used to convert a list to tuple and vice versa."
   ]
  },
  {
   "cell_type": "markdown",
   "id": "5da727cd",
   "metadata": {},
   "source": [
    "## 16. Variables that \"contain\" list values are not necessarily lists themselves. Instead, what do they contain?\n"
   ]
  },
  {
   "cell_type": "markdown",
   "id": "d512a167",
   "metadata": {},
   "source": [
    "### Ans:\n",
    "They contain references to list values."
   ]
  },
  {
   "cell_type": "markdown",
   "id": "2745f9b1",
   "metadata": {},
   "source": [
    "## 17. How do you distinguish between copy.copy() and copy.deepcopy()?\n"
   ]
  },
  {
   "cell_type": "markdown",
   "id": "2730b2a2",
   "metadata": {},
   "source": [
    "### Ans:\n",
    "The copy.copy( ) function will do a shallow copy of a list, while the copy.deepcopy( ) function will do a deep copy of a list. That is, only copy.deepcopy( ) will duplicate any lists inside the list."
   ]
  }
 ],
 "metadata": {
  "kernelspec": {
   "display_name": "Python 3 (ipykernel)",
   "language": "python",
   "name": "python3"
  },
  "language_info": {
   "codemirror_mode": {
    "name": "ipython",
    "version": 3
   },
   "file_extension": ".py",
   "mimetype": "text/x-python",
   "name": "python",
   "nbconvert_exporter": "python",
   "pygments_lexer": "ipython3",
   "version": "3.9.13"
  }
 },
 "nbformat": 4,
 "nbformat_minor": 5
}
